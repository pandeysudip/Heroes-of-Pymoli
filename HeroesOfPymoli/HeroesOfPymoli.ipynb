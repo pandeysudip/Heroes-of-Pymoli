{
 "cells": [
  {
   "cell_type": "code",
   "execution_count": 1,
   "id": "ce4a2753",
   "metadata": {},
   "outputs": [],
   "source": [
    "#Importing some modules\n",
    "import pandas as pd\n",
    "import numpy as np\n",
    "import matplotlib.pyplot as plt\n",
    "import os"
   ]
  },
  {
   "cell_type": "code",
   "execution_count": 2,
   "id": "b4e4243d",
   "metadata": {},
   "outputs": [],
   "source": [
    "#Defining path and file to load\n",
    "path=os.path.join(\"Resources\",\"purchase_data.csv\" )"
   ]
  },
  {
   "cell_type": "code",
   "execution_count": 3,
   "id": "81594543",
   "metadata": {},
   "outputs": [],
   "source": [
    "# Read Purchasing File and store into Pandas data frame\n",
    "purchase=pd.read_csv(path, sep=\",\")"
   ]
  },
  {
   "cell_type": "code",
   "execution_count": 4,
   "id": "05b62bfb",
   "metadata": {},
   "outputs": [
    {
     "data": {
      "text/html": [
       "<div>\n",
       "<style scoped>\n",
       "    .dataframe tbody tr th:only-of-type {\n",
       "        vertical-align: middle;\n",
       "    }\n",
       "\n",
       "    .dataframe tbody tr th {\n",
       "        vertical-align: top;\n",
       "    }\n",
       "\n",
       "    .dataframe thead th {\n",
       "        text-align: right;\n",
       "    }\n",
       "</style>\n",
       "<table border=\"1\" class=\"dataframe\">\n",
       "  <thead>\n",
       "    <tr style=\"text-align: right;\">\n",
       "      <th></th>\n",
       "      <th>Purchase ID</th>\n",
       "      <th>SN</th>\n",
       "      <th>Age</th>\n",
       "      <th>Gender</th>\n",
       "      <th>Item ID</th>\n",
       "      <th>Item Name</th>\n",
       "      <th>Price</th>\n",
       "    </tr>\n",
       "  </thead>\n",
       "  <tbody>\n",
       "    <tr>\n",
       "      <th>0</th>\n",
       "      <td>0</td>\n",
       "      <td>Lisim78</td>\n",
       "      <td>20</td>\n",
       "      <td>Male</td>\n",
       "      <td>108</td>\n",
       "      <td>Extraction, Quickblade Of Trembling Hands</td>\n",
       "      <td>3.53</td>\n",
       "    </tr>\n",
       "    <tr>\n",
       "      <th>1</th>\n",
       "      <td>1</td>\n",
       "      <td>Lisovynya38</td>\n",
       "      <td>40</td>\n",
       "      <td>Male</td>\n",
       "      <td>143</td>\n",
       "      <td>Frenzied Scimitar</td>\n",
       "      <td>1.56</td>\n",
       "    </tr>\n",
       "    <tr>\n",
       "      <th>2</th>\n",
       "      <td>2</td>\n",
       "      <td>Ithergue48</td>\n",
       "      <td>24</td>\n",
       "      <td>Male</td>\n",
       "      <td>92</td>\n",
       "      <td>Final Critic</td>\n",
       "      <td>4.88</td>\n",
       "    </tr>\n",
       "    <tr>\n",
       "      <th>3</th>\n",
       "      <td>3</td>\n",
       "      <td>Chamassasya86</td>\n",
       "      <td>24</td>\n",
       "      <td>Male</td>\n",
       "      <td>100</td>\n",
       "      <td>Blindscythe</td>\n",
       "      <td>3.27</td>\n",
       "    </tr>\n",
       "    <tr>\n",
       "      <th>4</th>\n",
       "      <td>4</td>\n",
       "      <td>Iskosia90</td>\n",
       "      <td>23</td>\n",
       "      <td>Male</td>\n",
       "      <td>131</td>\n",
       "      <td>Fury</td>\n",
       "      <td>1.44</td>\n",
       "    </tr>\n",
       "  </tbody>\n",
       "</table>\n",
       "</div>"
      ],
      "text/plain": [
       "   Purchase ID             SN  Age Gender  Item ID  \\\n",
       "0            0        Lisim78   20   Male      108   \n",
       "1            1    Lisovynya38   40   Male      143   \n",
       "2            2     Ithergue48   24   Male       92   \n",
       "3            3  Chamassasya86   24   Male      100   \n",
       "4            4      Iskosia90   23   Male      131   \n",
       "\n",
       "                                   Item Name  Price  \n",
       "0  Extraction, Quickblade Of Trembling Hands   3.53  \n",
       "1                          Frenzied Scimitar   1.56  \n",
       "2                               Final Critic   4.88  \n",
       "3                                Blindscythe   3.27  \n",
       "4                                       Fury   1.44  "
      ]
     },
     "execution_count": 4,
     "metadata": {},
     "output_type": "execute_result"
    }
   ],
   "source": [
    "# looking the data first\n",
    "purchase.head()"
   ]
  },
  {
   "cell_type": "code",
   "execution_count": null,
   "id": "7853631a",
   "metadata": {},
   "outputs": [],
   "source": [
    "#looking for shape\n",
    "purchase.shape\n",
    "print(f'The number of rows is:{purchase.shape[0]} and number of columns is: {purchase.shape[1]}')"
   ]
  },
  {
   "cell_type": "code",
   "execution_count": null,
   "id": "3e808ccf",
   "metadata": {},
   "outputs": [],
   "source": [
    "#looking for dtypes and null value\n",
    "purchase.info()"
   ]
  },
  {
   "cell_type": "code",
   "execution_count": null,
   "id": "d0ed826a",
   "metadata": {},
   "outputs": [],
   "source": [
    "# is any null value\n",
    "purchase.isna()"
   ]
  },
  {
   "cell_type": "code",
   "execution_count": null,
   "id": "a92d3814",
   "metadata": {},
   "outputs": [],
   "source": [
    "#Describing the dataframe\n",
    "purchase.describe()"
   ]
  },
  {
   "cell_type": "code",
   "execution_count": null,
   "id": "9ea6741d",
   "metadata": {},
   "outputs": [],
   "source": [
    "#columns name\n",
    "purchase.columns"
   ]
  },
  {
   "cell_type": "code",
   "execution_count": null,
   "id": "0e0cb6cb",
   "metadata": {},
   "outputs": [],
   "source": [
    "# index range\n",
    "purchase.index"
   ]
  },
  {
   "cell_type": "code",
   "execution_count": 5,
   "id": "0d7116e4",
   "metadata": {},
   "outputs": [
    {
     "data": {
      "text/html": [
       "<div>\n",
       "<style scoped>\n",
       "    .dataframe tbody tr th:only-of-type {\n",
       "        vertical-align: middle;\n",
       "    }\n",
       "\n",
       "    .dataframe tbody tr th {\n",
       "        vertical-align: top;\n",
       "    }\n",
       "\n",
       "    .dataframe thead th {\n",
       "        text-align: right;\n",
       "    }\n",
       "</style>\n",
       "<table border=\"1\" class=\"dataframe\">\n",
       "  <thead>\n",
       "    <tr style=\"text-align: right;\">\n",
       "      <th></th>\n",
       "      <th>Total Players</th>\n",
       "    </tr>\n",
       "  </thead>\n",
       "  <tbody>\n",
       "    <tr>\n",
       "      <th>0</th>\n",
       "      <td>576</td>\n",
       "    </tr>\n",
       "  </tbody>\n",
       "</table>\n",
       "</div>"
      ],
      "text/plain": [
       "   Total Players\n",
       "0            576"
      ]
     },
     "execution_count": 5,
     "metadata": {},
     "output_type": "execute_result"
    }
   ],
   "source": [
    "#Display the total number of players\n",
    "total_players=purchase.SN.nunique()\n",
    "pd.DataFrame({'Total Players':[total_players]})"
   ]
  },
  {
   "cell_type": "code",
   "execution_count": null,
   "id": "8ec79582",
   "metadata": {},
   "outputs": [],
   "source": []
  },
  {
   "cell_type": "code",
   "execution_count": null,
   "id": "e4a7c221",
   "metadata": {},
   "outputs": [],
   "source": [
    "#Purchasing Analysis (Total)\n",
    "unique=purchase['Item Name'].nunique()\n",
    "avg_purchase=purchase.Price.mean()\n",
    "total_no_purchase=purchase['Item ID'].count()\n",
    "total_revenue=purchase.Price.sum()\n",
    "total=pd.DataFrame({'Number of Unique Items':[unique],\n",
    "             \"Average Purchase Price\":[avg_purchase],\n",
    "             \"Total Number of Purchases\":[total_no_purchase],\n",
    "             \"Total Revenue\":[total_revenue]})\n",
    "total['Total Revenue']=total['Total Revenue'].map('${:.2f}'.format)\n",
    "total['Average Purchase Price']=total['Average Purchase Price'].map('${:.2f}'.format)\n",
    "total"
   ]
  },
  {
   "cell_type": "code",
   "execution_count": null,
   "id": "3c5ca78b",
   "metadata": {},
   "outputs": [],
   "source": []
  },
  {
   "cell_type": "code",
   "execution_count": null,
   "id": "6c32e3b4",
   "metadata": {},
   "outputs": [],
   "source": [
    "#Gender Demographics\n",
    " # total count\n",
    "totl_count=purchase.Gender.count()  \n",
    "# converting to dataframe\n",
    "gender=purchase.Gender.value_counts().to_frame()  \n",
    "# adding perct change column\n",
    "gender['Percentage Change']=gender['Gender']/totl_count  \n",
    "gender"
   ]
  },
  {
   "cell_type": "code",
   "execution_count": null,
   "id": "60a36f56",
   "metadata": {},
   "outputs": [],
   "source": [
    "\n"
   ]
  },
  {
   "cell_type": "code",
   "execution_count": null,
   "id": "83a2ce03",
   "metadata": {},
   "outputs": [],
   "source": [
    "#Purchasing Analysis (Gender)\n",
    "#short cut way to convert groupby to dataframe using reset_index\n",
    "purchase.groupby('Gender')['Price'].agg(['count', 'mean', 'sum']).reset_index()\n",
    "\n",
    "#other way\n",
    "purchase_group=purchase.groupby('Gender')['Price'].agg(['count', 'mean', 'sum'])\n",
    "purchase_df=pd.DataFrame(purchase_group)\n",
    "purchase_df['Avg Total Purchase per Person']=purchase_df['sum']/purchase_df['count']\n",
    "purchase_df.rename(columns={'count':'Purchase Count',\n",
    "                           \"mean\":\"Average Purchase Price\",\n",
    "                           'sum':'Total Purchase Value'}, inplace=True)\n",
    "purchase_df['Average Purchase Price']=(\n",
    "                      purchase_df['Average Purchase Price'].map('${:.2f}'.format))\n",
    "purchase_df['Total Purchase Value']=(\n",
    "                      purchase_df['Total Purchase Value'].map('${:.2f}'.format))\n",
    "purchase_df['Avg Total Purchase per Person']=(\n",
    "                      purchase_df['Avg Total Purchase per Person'].map('${:.2f}'.format))\n",
    "purchase_df"
   ]
  },
  {
   "cell_type": "code",
   "execution_count": null,
   "id": "78c570b6",
   "metadata": {},
   "outputs": [],
   "source": [
    "purchase.Age.sum()"
   ]
  },
  {
   "cell_type": "code",
   "execution_count": null,
   "id": "cbe56ef1",
   "metadata": {},
   "outputs": [],
   "source": [
    "#Age Demographics\n",
    "bins=[0,10,15,20,25,30,35,40,100]\n",
    "levels=['<10','10-14','15-19','20-24','25-29','30-34', '35-39','40+']\n",
    "purchase['Bins']=pd.cut(purchase['Age'], bins, labels=levels)\n",
    "bins_df=purchase.groupby('Bins')[\"Age\"].count().reset_index()\n",
    "bins_df.set_index(\"Bins\", inplace=True)\n",
    "bins_df[\"Percentage of Players\"]=bins_df.Age/bins_df.Age.count()\n",
    "bins_df.rename(columns={'Age': \"Total Count\"})"
   ]
  },
  {
   "cell_type": "code",
   "execution_count": null,
   "id": "bc9500a2",
   "metadata": {},
   "outputs": [],
   "source": [
    "#Purchasing Analysis (Age)\n",
    "bins_purch=purchase.groupby('Bins')[\"Price\"].agg(['count', 'mean', 'sum'])\n",
    "purch_df=pd.DataFrame(bins_purch)\n",
    "purch_df['Avg Total Purchase per Person']=purch_df['sum']/purch_df['count']\n",
    "purch_df.rename(columns={'count':'Purchase Count',\n",
    "                           \"mean\":\"Average Purchase Price\",\n",
    "                           'sum':'Total Purchase Value'}, inplace=True)\n",
    "purch_df['Average Purchase Price']=(\n",
    "                      purch_df['Average Purchase Price'].map('${:.2f}'.format))\n",
    "purch_df['Total Purchase Value']=(\n",
    "                      purch_df['Total Purchase Value'].map('${:.2f}'.format))\n",
    "purch_df['Avg Total Purchase per Person']=(\n",
    "                      purch_df['Avg Total Purchase per Person'].map('${:.2f}'.format))\n",
    "purch_df"
   ]
  },
  {
   "cell_type": "code",
   "execution_count": null,
   "id": "8c2541cc",
   "metadata": {},
   "outputs": [],
   "source": [
    "#Top Spenders\n",
    "spender_groupby=purchase.groupby(\"SN\")['Price'].agg(['count', 'mean', 'sum'])\n",
    "top_spender=pd.DataFrame(spender_groupby)\n",
    "top_spender.rename(columns={'count':'Purchase Count',\n",
    "                           \"mean\":\"Average Purchase Price\",\n",
    "                           'sum':'Total Purchase Value'}, inplace=True)\n",
    "top_spender.sort_values(by=['Total Purchase Value'], ascending=False, inplace=True)\n",
    "top_spender['Average Purchase Price']=(\n",
    "                      top_spender['Average Purchase Price'].map('${:.2f}'.format))\n",
    "top_spender['Total Purchase Value']=(\n",
    "                      top_spender['Total Purchase Value'].map('${:.2f}'.format))\n",
    "\n",
    "top_spender"
   ]
  },
  {
   "cell_type": "code",
   "execution_count": null,
   "id": "975de63f",
   "metadata": {},
   "outputs": [],
   "source": [
    "# Most Popular Items\n",
    "items_groupby=purchase.groupby(['Item ID', 'Item Name'])['Price'].agg(['count', 'mean', 'sum'])\n",
    "popular_items=pd.DataFrame(items_groupby)\n",
    "popular_items.rename(columns={'count':'Purchase Count',\n",
    "                           \"mean\":\"Item Price\",\n",
    "                           'sum':'Total Purchase Value'}, inplace=True)\n",
    "popular_items.sort_values(by=['Purchase Count'], ascending=False, inplace=True)\n",
    "\n",
    "popular_items"
   ]
  },
  {
   "cell_type": "code",
   "execution_count": null,
   "id": "39544faa",
   "metadata": {},
   "outputs": [],
   "source": []
  },
  {
   "cell_type": "code",
   "execution_count": null,
   "id": "df2c1b2b",
   "metadata": {},
   "outputs": [],
   "source": [
    "#Most Profitable Items\n",
    "popular_items.sort_values(by=['Total Purchase Value'], ascending=False, inplace=True)\n",
    "popular_items['Item Price']=(\n",
    "                      popular_items['Item Price'].map('${:.2f}'.format))\n",
    "popular_items['Total Purchase Value']=(\n",
    "                      popular_items['Total Purchase Value'].map('${:.2f}'.format))\n",
    "popular_items"
   ]
  },
  {
   "cell_type": "code",
   "execution_count": null,
   "id": "0b8088b8",
   "metadata": {},
   "outputs": [],
   "source": []
  }
 ],
 "metadata": {
  "kernelspec": {
   "display_name": "Python 3 (ipykernel)",
   "language": "python",
   "name": "python3"
  },
  "language_info": {
   "codemirror_mode": {
    "name": "ipython",
    "version": 3
   },
   "file_extension": ".py",
   "mimetype": "text/x-python",
   "name": "python",
   "nbconvert_exporter": "python",
   "pygments_lexer": "ipython3",
   "version": "3.8.10"
  }
 },
 "nbformat": 4,
 "nbformat_minor": 5
}
